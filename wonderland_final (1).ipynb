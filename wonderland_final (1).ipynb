{
 "cells": [
  {
   "cell_type": "code",
   "execution_count": null,
   "id": "312b0b37-03e4-4408-a232-91a83ef27984",
   "metadata": {},
   "outputs": [],
   "source": [
    "#Final project for concepts in computer programming; Lalitha Komoravolu"
   ]
  },
  {
   "cell_type": "code",
   "execution_count": null,
   "id": "97f923d7-c6e3-490f-8824-6ed7e1bcba42",
   "metadata": {},
   "outputs": [],
   "source": [
    "'''\n",
    "read me\n",
    "(IMPORTANT: Run the block of code below first, and then the next block of code. The second block of code is the gameplay.)\n",
    "\n",
    "\n",
    "1. My project is one that is modeled after choose-your-own-adventure novels. It is largely story based (and for that reason, quite wordy). A player enters “Wonderland”, based on the novels “Alice’s Adventures in Wonderland” and “Through the Looking Glass” by Lewis Carroll. Players “enter” Wonderland, and they are able to interact with the characters and objects in wonderland, from size altering food to talking tables. Their goal is to escape wonderland and collect as many objects as they can. Their score is determined by the number of objects they are able to collect throughout the game, and by the score they receive on an optional themed quiz. They are able to escape Wonderland by winning minigames and selecting the right choices in risky situations. This mostly matches the description of my proposal, although I altered the idea of creating “checkpoints” to determine scoring, and instead used collected objects for scoring. While I did not make entire alternative storylines, I did create events in which a different answer would incur a different scenario, but eventually lead down the same storyline. I found that this was more efficient, and the extra alternative events still offered the variety I was hoping to achieve if the user wanted to play again and make different choices. \n",
    "2. I selected this project because I enjoy visual novels, storytelling, and Lewis Carroll’s stories. I enjoy writing stories, and I really liked a recent visual novel I played through, called “Butterfly Soup”. I want to make my own visual novel in the future if I would be able to, and wanted to experience the process of coding for a text-based interactive storytelling project to begin. I had hoped to improve at building functions, creating while loops without needing to restart the kernel, and error handling input; I also had hoped to learn how to make a larger, cohesive coding project, and experience putting several coding components together. While I ran into a few challenges, I believe I did reach these goals.\n",
    "3. Yes, I would do this project very differently. I might have picked the data parse adventure instead, but if I selected this project again, I would change my approach. This format is not very conducive to readability. I put in large chunks of text, and later realized that this was not ideal for this format. I would have instead reduced the text and added more games and functionality; I realized this too late, because I was too fixated on writing a good storyline. Halfway through, I realized my mistake and rushed the storyline in order to focus on the functionality, but I think that it is imbalanced. Overall, if I did this again, I would focus on creating an outline of the minigames I would like to include, ensure that the basic coding of the minigames and overall structure works, and then focus on developing a storyline later.\n",
    "4. You can run my project by running the two blocks of code. The first large block has key functions that are incorporated later, and while it does not have the gameplay, it is important to run it. The second and final block has the gameplay– running it will trigger the beginning of the game. The game will ask you for various inputs throughout the game. The goal is to collect as many items and points as possible, escape risky situations, and win the final minigame to leave Wonderland.\n",
    "5. It was challenging in the ways I expected. I struggled with the overall structure I should select– initially it was going to be a large main function, but I found that the while loop structure made more sense in order to prevent a user from continuing if they lost. I had a difficult time finding a way for a user to continue only if they met two specific conditions, and spent a long time trying to come up with a way to structure the “soup” or “chair” sequence. I also ran into problems when I tried to put everything together from time to time. But I was able to overcome these challenges, albeit a few of my solutions were a bit messy, or I had to crop out a few previously outlined plot points.\n",
    "6. I used the following sources: (https://stackoverflow.com/questions/74412503/cannot-access-local-variable-a-where-it-is-not-associated-with-a-value-but) helped me understand that I had to change the scope of some of my variables becaus ethey were only defined within functions. (https://www.geeksforgeeks.org/how-to-set-up-the-game-loop-in-pyggame/) helped me to set up an overarching while loop for the game, even if I didn’t use pygame.( https://www.dataquest.io/blog/python-projects-for-beginners/) this helped me come up with some minigame ideas. (https://www.w3schools.com/python/gloss_python_function_arguments.asp) I had trouble understanding that I needed to pass parameters to function arguments in order to solve the two condition issue (The “soup” or “chair” issue), but this source helped me out. (https://www.learndatasci.com/solutions/python-timer/) this helped me create a stopwatch in python. The Alice in Wonderland books were the inspiration for the plotline. I also reference the class lecture notes quite frequently for help with functions and loops. \n",
    "\n",
    "\n",
    "\n",
    "'''"
   ]
  },
  {
   "cell_type": "code",
   "execution_count": 293,
   "id": "4dae3174-005a-48b2-8669-8bf2cb242719",
   "metadata": {
    "tags": []
   },
   "outputs": [
    {
     "name": "stdout",
     "output_type": "stream",
     "text": [
      "Welcome to stone, hat, shears. It's similar to rock, paper, scissors, with stone being rock, paper being hat, and scissors being shears, and it has the same rules.\n"
     ]
    },
    {
     "name": "stdin",
     "output_type": "stream",
     "text": [
      "Pick stone, hat, or shears:  hat\n"
     ]
    },
    {
     "name": "stdout",
     "output_type": "stream",
     "text": [
      "It's a tie! try again.\n"
     ]
    },
    {
     "name": "stdin",
     "output_type": "stream",
     "text": [
      "Pick stone, hat, or shears:  hat\n"
     ]
    },
    {
     "name": "stdout",
     "output_type": "stream",
     "text": [
      "The queen has picked shears\n"
     ]
    },
    {
     "data": {
      "text/plain": [
       "'lose'"
      ]
     },
     "execution_count": 293,
     "metadata": {},
     "output_type": "execute_result"
    }
   ],
   "source": [
    "#This first block of code defines many of the major functions within the game. This is NOT the block of code that triggers gameplay, but make SURE to RUN THIS\n",
    "#importing the time and random modules\n",
    "import time\n",
    "import random\n",
    "\n",
    "#This defines the instructions \n",
    "def instructions():\n",
    "    print(\"Welcome to Wonderland! Or, as it's been rebranded here, Aurora. In this choose-your-own-adventure novel, you are a character that has found their way into Wonderland. \\nCan you find your way out by collecting the right items, winning the dubious games of its mischevious inhabitants, and making the right choices? \\n Beware, the wrong choices could lead to your being trapped forever.\")\n",
    "    time.sleep(1)\n",
    "    print(\"Instructions: \\n Objective: 'Escape' Wonderland by winning games, collecting the right items, and making the right choices. \\n How to play: This is a story-based game, like a code novel (And so due to this format, it is more verbose; it is more of a choose-your-own-adventure text novel than an adevnture game). \\nRead through the prompts the way you would for a work of fiction. \\n The story will take you through different situations, and ask you to type in answers or make choices. Please offer the appropriate input; otherwise it will prompt you to do so. If you make the wrong decision, or find yourself unequipped for a situation by not having collected the right items, you will be 'trapped' in Wonderland, and you will lose. Your score is determined by the number of items that you collect, and will be displayed periodically and by the end. Make the right choices, and escape Wonderland.\")\n",
    "\n",
    "#this defines the intro function\n",
    "def intro():\n",
    "    print(\"\\n It's morning, and you head to work in a gray skyscraper. You walk through the doors with swipe of an ID badge. \")\n",
    "    print(\"The ID badge has your name,\")\n",
    "\n",
    "    \n",
    "#this defines the asking name function. It checks for alphabetic input before returning username\n",
    "def asking_name():\n",
    "    firstinp = input(\"(Your name, please.)\")\n",
    "    if firstinp.isalpha() == True:\n",
    "        username = firstinp\n",
    "        print(username)\n",
    "    else:\n",
    "        print(\"invalid input)\")\n",
    "        asking_name()\n",
    "    return username\n",
    "\n",
    "#this is the rabbit_meet function, which offers the opportunity to store a watch item\n",
    "def rabbit_meet():\n",
    "    print(\"You step out for lunch. A man in a silver suit pushes past you, and you fall to the ground. How rude! He leaves behind a golden pocket watch.\")\n",
    "    watch1 = input(\"Take the watch?\").lower()\n",
    "    if watch1 == \"yes\":\n",
    "        print(\"You grab the watch and store it in your pocket. Why don't we give it back?\")\n",
    "        return watch1\n",
    "    elif watch1 == \"no\":\n",
    "        print(\"You leave it behind. But it seems like your ID card is gone-- did he take it? Why don't we go find him?\")\n",
    "        return watch1\n",
    "    else:\n",
    "        print(\"Dude. Yes or no.\")\n",
    "        rabbit_meet()\n",
    "\n",
    "#This would define the function that leads the user to go to the park\n",
    "def to_the_park():\n",
    "    print(\"Your feet pound against the cement sidewalk as you chase after the man in the silver suit. You feel..compelled to chase after him despite the need to return back to work. Bystanders with their tiny dogs on long leashes fall away as you chase after him. And now you find yourself at the park, \\n your feet on grass shorn short and surrounded by stout shrubbery.\") \n",
    "    time.sleep(1)\n",
    "    print(\"You can see an arch, leading out into the koi pond... \\n and unfortunately, a giant, rusted manhole cover right in front of you, recently tossed aside to reveal a deep hole down. Where would he have gone?\")\n",
    "\n",
    "#This is the choice to go down the rabbit hole. Both options lead to the rabbit hole, but one option, cattail_choice, offers the opportunity to pick up a cattail item. \n",
    "def rabbit_hole_choice():\n",
    "    cattail_choice = input(\"Going down the hole? Yes or no? We can check out the arch if you say no.\").lower()\n",
    "    if cattail_choice == \"yes\":\n",
    "        print(\"You don't think... oh dear, you just might be right. Down we go! You ignore the disgusted stares surrounding you as you jump in.\")\n",
    "        return cattail_choice\n",
    "    elif cattail_choice == \"no\":\n",
    "        print(\"The arch is quite lovely, and you take a minute to ponder while watching the koi, which move like colorful silk as they traverse the pond.\")\n",
    "        time.sleep(1)\n",
    "        print(\"There's a single fish that's eerily blood red. It seems to signal towards the cattails by the rocks. Drawn, you pluck a single cattail.\")\n",
    "        time.sleep(1)\n",
    "        print(\"Well, there doesn't appear to be anything else here. You head back to the manhole cover, and, ignoring the stares, you hold your nose and jump in. The cattail stays in your pocket.\")\n",
    "        return cattail_choice\n",
    "    else:\n",
    "        print(\"Pick one of the options please!\")\n",
    "        rabbit_hole_choice()\n",
    "\n",
    "#This function welcomes the user to wonderland\n",
    "def welcome():\n",
    "    print(\"Your stomach lurches in terror as you keep falling down the hole. It doesn't reek the way you thought it would, but it's a small comfort when you \\n can't see any light below you. Was chasing that odd man worth it?\")\n",
    "    time.sleep(1)\n",
    "    print(\"Wait-- there's a small flash of silver glinting up at your from below. It's the silver hat he wore. The wind around you slows as you begin to descend with more ease. The darkness begins to transform into a background of twisting silver pipes-- the city's plumbing is oddly spotless and rodent free? \\n The hat continues to drift downwards, and the pipes now cut off, beginning to spill out rivers of paint and color onto the gray below.\")\n",
    "    time.sleep(1)\n",
    "    print(\"You watch as the hat now sits on the head of a rather large, well-dressed hare. He tumbles on to the bright ground below and scampers off. The paint has shaped itself into vibrant, red letters, thick like and round like graffitti font, reading 'Welcome to Aurora'. In smaller lettering, it reads 'Formerly known as Wonderland'\")\n",
    "\n",
    "    \n",
    "#The following functions details the user landing from the rabbit hole and trying the cookie and cider for the first time\n",
    "#This function has you meet an animated table\n",
    "def meet_table():\n",
    "    print(\"You softly land on to the painted white surface-- it has the bounce of a paint canvas. There's an animated cafe table sitting next to you, her grinning face printed across the tabletop. \\n 'Would you like something to eat dear, or something to drink?' she asks.\")\n",
    "#oatmeal_cookie and cider define functions with print statements depicting the experience of having those items\n",
    "def oatmeal_cookie():\n",
    "    time.sleep(1)\n",
    "    print(\"You're feeling a little funny... it feels like you've been kicked in the stomach and all your limbs are reaching out! Your skin turns bright purple and your stomach plummets like it does on a rising elevator.\")\n",
    "    time.sleep(1)\n",
    "    print(\"You are now towering over everything around you. Your limbs are the size of ladders and your clothing has grown into brocades of cloth to cover you up, and each breath expels a breeze.\")\n",
    "def cider():\n",
    "    print(\"\\n The cider fills your body with warmth at first, and you remember your father joking about buying the store out of cider for you. You remember gulping it down and gleefully kicking your legs under the kitchen table. And at first, it's wonderful to feel... small.\")\n",
    "    time.sleep(1)\n",
    "    print(\"\\n But that feeling begins to hold you inside of it, rather than the other way around. \\n Once, you hid away in a suitcase when you found the voices in your head to be 'too loud'\")\n",
    "    time.sleep(1)\n",
    "    print(\"\\n This feels more claustrophobic than that. Your chest feels too small for your lungs, and your legs and arms shrink until they become the size of those polly pocket dolls your sisters used to play with. Your skin turns bright pink, and your clothing shrinks to fit you. You're just the right size for a well-priced apartment in the heart of the city, or a doll house.\")\n",
    "\n",
    "#food_choice is a function that allows the user to experience trying the cider or the cookie.\n",
    "def food_choice():    \n",
    "    foodchoice = input(\"Eat or drink?\").lower()\n",
    "    if foodchoice == \"eat\":\n",
    "        print(\"\\n'Why not try a bit of this oatmeal cookie, love?' \\n You regard the cookie, which feels warm in your hands. You take a bite-- it is chewy and delightful.\")\n",
    "        oatmeal_cookie()\n",
    "        print(\"\\n'My my, you've grown so big sweetheart!' The table calls out in a tiny voice. Why not have a little something to wash it down! She hands you a flask, and you take a sip of warm apple cider.\")\n",
    "        time.sleep(1)\n",
    "        cider()\n",
    "        time.sleep(1)\n",
    "        ready()\n",
    "        print(\"\\n 'Dearie-- just lick the cap of the flask! You'll be back!' You obey the table's booming voice, and lick the oddly salty cap to gratefully stretch back into the appropriate proportions.\")\n",
    "    elif foodchoice == \"drink\":\n",
    "        print(\"'You must be so tired after that journey down here. How about some apple cider to warm you up?' She nudges a flask towards you, and after a moment of contemplation, you unscrew the lid and take a sip.\")\n",
    "        time.sleep(1)\n",
    "        cider()\n",
    "        ready()\n",
    "        time.sleep(1)\n",
    "        print(\"\\n 'Honey! Why don't you try some of this to stretch out a little?'The table pushes over a crumb of the oatmeal cookie.\")\n",
    "        time.sleep(1)\n",
    "        oatmeal_cookie()\n",
    "        ready()\n",
    "        print(\"\\n'Okay love! If you're tired  of that growth spurt, just pick out a blueberry and taste it!' You find a purple stain on the cookie, and pluck a shriveled, baked blueberry out. Its sour taste returns you to your original state, much to your relief.\")\n",
    "    else:\n",
    "        print(\"Come on. Eat or drink?\")\n",
    "        food_choice()\n",
    "\n",
    "\n",
    "\n",
    "#pick_food allows you to pick either 2 cookies and 1 cider, or 2 ciders and 1 cookie. It returns this a food_option\n",
    "\n",
    "def pick_food():\n",
    "    print(\"'Okay, sweetie! You can take some cider and a bit of muffin. Oh it does not look like you have enough room for a full cookie and the entire bottle of cider. I'll make sure you get a bit of both, but would you like more cider or a bigger cookie piece?' (Type 'cider' or 'cookie')\")\n",
    "    food_option = input().lower()\n",
    "    if food_option == \"cookie\":\n",
    "        print(\"Two cookies for you, and a small flask of cider! Okay, take care!\")\n",
    "        return food_option\n",
    "    elif food_option == \"cider\":\n",
    "        print(\"'Okay then, a large flask of cider, and one cookie for you. Take care!'\")\n",
    "        return food_option\n",
    "    else:\n",
    "        print(\"Do you want the cider or the cookie? Pick one.\")\n",
    "        pick_food()        \n",
    "\n",
    "    \n",
    "    #This is a ready function that can be called to break up text blocks, and make sure the user isn't overwhelemed before starting the next event\n",
    "def ready():\n",
    "    print(\"\\n (Are you ready to continue? (yes or no?))\")\n",
    "    isready = input().lower()\n",
    "    if isready == \"yes\":\n",
    "        print(\"(Let's go!)\")\n",
    "    elif isready == \"no\":\n",
    "        print(\"Okay! Hit yes when you're ready.\")\n",
    "        ready()\n",
    "    else:\n",
    "        print(\"Yes or no, please\")\n",
    "        ready()\n",
    "\n",
    "#This is the rock paper scissors function. \n",
    "import random\n",
    "#key: rock = stone, paper = hat, shears = scissors\n",
    "\n",
    "def rps():\n",
    "    print(\"Welcome to stone, hat, shears. It's similar to rock, paper, scissors, with stone being rock, paper being hat, and scissors being shears, and it has the same rules.\")\n",
    "    rpslist = ['stone', 'hat', 'shears']\n",
    "    randomrps = random.choice(rpslist)\n",
    "    user_rps = input(\"Pick stone, hat, or shears: \").lower()\n",
    "    #Error handling input by using a while loop\n",
    "    while user_rps not in rpslist:\n",
    "        user_rps = input(\"Pick stone, hat, or shears: \").lower()\n",
    "    #makes function repeat if there's a tie by using a while loop\n",
    "    while user_rps == randomrps: \n",
    "        print(\"It's a tie! try again.\")\n",
    "        randomrps = random.choice(rpslist)\n",
    "        user_rps = input(\"Pick stone, hat, or shears: \").lower()\n",
    "        while user_rps not in rpslist:\n",
    "            user_rps = input(\"Pick stone, hat, or shears: \").lower()   \n",
    "    \n",
    "    #This outlines all possible win conditions, and returns win if matched, or lose if not\n",
    "    print(f\"The queen has picked {randomrps}\")        \n",
    "    if ( (user_rps == 'stone' and randomrps == 'shears') or \n",
    "        (user_rps == 'shears' and randomrps == 'hat') or \n",
    "        (user_rps == 'hat' and randomrps == 'stone')):\n",
    "            return \"win\"\n",
    "    else: \n",
    "        return \"lose\"\n",
    "\n",
    "\n",
    "#This defines a themed mini-quiz. The quiz_score variable starts at 0, and 1 point is added for every right answer. \n",
    "\n",
    "def quiz():\n",
    "    quiz_score = 0\n",
    "    print(\"Question one: What is father William? 3 letters. Adjective.\")\n",
    "    #There is no error handling for this, because there is only one acceptable answer, and we cannot inform the user of the correct answer\n",
    "    q1 = input().lower()\n",
    "    if q1 == \"old\":\n",
    "        print(\"correct!\")\n",
    "        quiz_score = quiz_score +1\n",
    "        #recieves a point for the correct answer\n",
    "    else:\n",
    "        print(\"Wrooooong\")\n",
    "    \n",
    "    print(\"Question two: Do you shun the bandersnatch or the mome raths? Type 'b' for bandersnatch and 'm' for mome raths.\")\n",
    "    q2 = input().lower()\n",
    "    if q2 == \"b\":\n",
    "        print(\"That's right!\")\n",
    "        quiz_score = quiz_score +1\n",
    "    else: \n",
    "        print(\"Wrooong\")\n",
    "    \n",
    "    print(\"Question three: What's more useful, a memory that goes forwards or backwards? 'f' for forwards and 'b' for backwards.\")\n",
    "    q3 = input().lower()\n",
    "    if q3 == 'f':\n",
    "        print(\"Indeed, just like the white queen!\")\n",
    "        quiz_score = quiz_score +1\n",
    "    else:\n",
    "        print(\"Now what use is that? Wrong.\")\n",
    "    \n",
    "    print(\"Question four: Now what did the duchess deliver?\")\n",
    "    q4 = input().lower()\n",
    "    if \"pig\" in q4:\n",
    "        print(\"Why you are correct! It makes for a rather beautiful pig, doesn't it?\")\n",
    "        quiz_score = quiz_score +1\n",
    "    else:\n",
    "        print(\"Wrong.\")\n",
    "    #finally, it returns a quiz_score variable\n",
    "    return quiz_score\n",
    "\n",
    "        \n",
    "        \n",
    "#this function checks for meeting two conditions. If the correct conditions are met, there are two chance to win, otherwise there are two chance to lose\n",
    "def check_input(opt1, opt2):\n",
    "    #This is a win condition\n",
    "    if opt1 == 'soup' and opt2 == 'cider':\n",
    "        print('You shrink and use an empty, plastic butter tub as a boat. You ride outside of the house on a tomato sea, and return to normal size.')\n",
    "        return 'win'\n",
    "    \n",
    "    if opt1 == 'chair' and opt2 == 'cookie':\n",
    "        print('Congrats! You grow tall and duck out of the house before it is too late')\n",
    "        return 'win'\n",
    "    #This is a lose condition\n",
    "    if opt1 =='soup' and opt2 == 'cookie':\n",
    "        print('Oh dear. You grow too large, slip, and fall down as the tomato ocean accumulates.')\n",
    "        return 'lose'\n",
    "    \n",
    "    if opt1 == 'chair' and opt2 == 'cider':\n",
    "        print( 'Oh dear. You become too small and slip right off the chandelier.')\n",
    "        return 'lose'\n",
    "          \n"
   ]
  },
  {
   "cell_type": "code",
   "execution_count": 292,
   "id": "f51f3906-f5bd-4084-af91-8d214d233225",
   "metadata": {
    "tags": []
   },
   "outputs": [
    {
     "name": "stdout",
     "output_type": "stream",
     "text": [
      "Welcome to Wonderland! Or, as it's been rebranded here, Aurora. In this choose-your-own-adventure novel, you are a character that has found their way into Wonderland. \n",
      "Can you find your way out by collecting the right items, winning the dubious games of its mischevious inhabitants, and making the right choices? \n",
      " Beware, the wrong choices could lead to your being trapped forever.\n",
      "Instructions: \n",
      " Objective: 'Escape' Wonderland by winning games, collecting the right items, and making the right choices. \n",
      " How to play: This is a story-based game, like a code novel (And so due to this format, it is more verbose; it is more of a choose-your-own-adventure text novel than an adevnture game). \n",
      "Read through the prompts the way you would for a work of fiction. \n",
      " The story will take you through different situations, and ask you to type in answers or make choices. Please offer the appropriate input; otherwise it will prompt you to do so. If you make the wrong decision, or find yourself unequipped for a situation by not having collected the right items, you will be 'trapped' in Wonderland, and you will lose. Your score is determined by the number of items that you collect, and will be displayed periodically and by the end. Make the right choices, and escape Wonderland.\n",
      "\n",
      " It's morning, and you head to work in a gray skyscraper. You walk through the doors with swipe of an ID badge. \n",
      "The ID badge has your name,\n"
     ]
    },
    {
     "name": "stdin",
     "output_type": "stream",
     "text": [
      "(Your name, please.) lali\n"
     ]
    },
    {
     "name": "stdout",
     "output_type": "stream",
     "text": [
      "lali\n",
      "You step out for lunch. A man in a silver suit pushes past you, and you fall to the ground. How rude! He leaves behind a golden pocket watch.\n"
     ]
    },
    {
     "name": "stdin",
     "output_type": "stream",
     "text": [
      "Take the watch? yes\n"
     ]
    },
    {
     "name": "stdout",
     "output_type": "stream",
     "text": [
      "You grab the watch and store it in your pocket. Why don't we give it back?\n",
      "You have a watch. Your score is one.\n",
      "Your feet pound against the cement sidewalk as you chase after the man in the silver suit. You feel..compelled to chase after him despite the need to return back to work. Bystanders with their tiny dogs on long leashes fall away as you chase after him. And now you find yourself at the park, \n",
      " your feet on grass shorn short and surrounded by stout shrubbery.\n",
      "You can see an arch, leading out into the koi pond... \n",
      " and unfortunately, a giant, rusted manhole cover right in front of you, recently tossed aside to reveal a deep hole down. Where would he have gone?\n"
     ]
    },
    {
     "name": "stdin",
     "output_type": "stream",
     "text": [
      "Going down the hole? Yes or no? We can check out the arch if you say no. no\n"
     ]
    },
    {
     "name": "stdout",
     "output_type": "stream",
     "text": [
      "The arch is quite lovely, and you take a minute to ponder while watching the koi, which move like colorful silk as they traverse the pond.\n",
      "There's a single fish that's eerily blood red. It seems to signal towards the cattails by the rocks. Drawn, you pluck a single cattail.\n",
      "Well, there doesn't appear to be anything else here. You head back to the manhole cover, and, ignoring the stares, you hold your nose and jump in. The cattail stays in your pocket.\n",
      "Your score is now 2\n",
      "Your stomach lurches in terror as you keep falling down the hole. It doesn't reek the way you thought it would, but it's a small comfort when you \n",
      " can't see any light below you. Was chasing that odd man worth it?\n",
      "Wait-- there's a small flash of silver glinting up at your from below. It's the silver hat he wore. The wind around you slows as you begin to descend with more ease. The darkness begins to transform into a background of twisting silver pipes-- the city's plumbing is oddly spotless and rodent free? \n",
      " The hat continues to drift downwards, and the pipes now cut off, beginning to spill out rivers of paint and color onto the gray below.\n",
      "You watch as the hat now sits on the head of a rather large, well-dressed hare. He tumbles on to the bright ground below and scampers off. The paint has shaped itself into vibrant, red letters, thick like and round like graffitti font, reading 'Welcome to Aurora'. In smaller lettering, it reads 'Formerly known as Wonderland'\n",
      "You softly land on to the painted white surface-- it has the bounce of a paint canvas. There's an animated cafe table sitting next to you, her grinning face printed across the tabletop. \n",
      " 'Would you like something to eat dear, or something to drink?' she asks.\n"
     ]
    },
    {
     "name": "stdin",
     "output_type": "stream",
     "text": [
      "Eat or drink? eat\n"
     ]
    },
    {
     "name": "stdout",
     "output_type": "stream",
     "text": [
      "\n",
      "'Why not try a bit of this oatmeal cookie, love?' \n",
      " You regard the cookie, which feels warm in your hands. You take a bite-- it is chewy and delightful.\n",
      "You're feeling a little funny... it feels like you've been kicked in the stomach and all your limbs are reaching out! Your skin turns bright purple and your stomach plummets like it does on a rising elevator.\n",
      "You are now towering over everything around you. Your limbs are the size of ladders and your clothing has grown into brocades of cloth to cover you up, and each breath expels a breeze.\n",
      "\n",
      "'My my, you've grown so big sweetheart!' The table calls out in a tiny voice. Why not have a little something to wash it down! She hands you a flask, and you take a sip of warm apple cider.\n",
      "\n",
      " The cider fills your body with warmth at first, and you remember your father joking about buying the store out of cider for you. You remember gulping it down and gleefully kicking your legs under the kitchen table. And at first, it's wonderful to feel... small.\n",
      "\n",
      " But that feeling begins to hold you inside of it, rather than the other way around. \n",
      " Once, you hid away in a suitcase when you found the voices in your head to be 'too loud'\n",
      "\n",
      " This feels more claustrophobic than that. Your chest feels too small for your lungs, and your legs and arms shrink until they become the size of those polly pocket dolls your sisters used to play with. Your skin turns bright pink, and your clothing shrinks to fit you. You're just the right size for a well-priced apartment in the heart of the city, or a doll house.\n",
      "\n",
      " (Are you ready to continue? (yes or no?))\n"
     ]
    },
    {
     "name": "stdin",
     "output_type": "stream",
     "text": [
      " yes\n"
     ]
    },
    {
     "name": "stdout",
     "output_type": "stream",
     "text": [
      "(Let's go!)\n",
      "\n",
      " 'Dearie-- just lick the cap of the flask! You'll be back!' You obey the table's booming voice, and lick the oddly salty cap to gratefully stretch back into the appropriate proportions.\n",
      "'Okay, sweetie! You can take some cider and a bit of muffin. Oh it does not look like you have enough room for a full cookie and the entire bottle of cider. I'll make sure you get a bit of both, but would you like more cider or a bigger cookie piece?' (Type 'cider' or 'cookie')\n"
     ]
    },
    {
     "name": "stdin",
     "output_type": "stream",
     "text": [
      " cider\n"
     ]
    },
    {
     "name": "stdout",
     "output_type": "stream",
     "text": [
      "'Okay then, a large flask of cider, and one cookie for you. Take care!'\n",
      "You leave the room and enter a house. You catch the aroma of your mother's soup on the stove. You also see your father's comfy chair sitting by the television. Where do you go, to try the soup or sit on the chair?\n"
     ]
    },
    {
     "name": "stdin",
     "output_type": "stream",
     "text": [
      "Enter soup or chair:  soup\n"
     ]
    },
    {
     "name": "stdout",
     "output_type": "stream",
     "text": [
      "You reach for the soup, but it spills over the stove, and it continues to spill over, ceaselessly! At this rate you'll drown!\n",
      "You can use one item in this situation, your cider to shrink or your cookie to grow. What do you pick?\n"
     ]
    },
    {
     "name": "stdin",
     "output_type": "stream",
     "text": [
      "cider or cookie:  cider\n"
     ]
    },
    {
     "name": "stdout",
     "output_type": "stream",
     "text": [
      "You shrink and use an empty, plastic butter tub as a boat. You ride outside of the house on a tomato sea, and return to normal size.\n",
      "After you leave that terrifying home, you catch a glimps of something bushy and white. It's the rabbit! You chase him down, and catch him cornered. \n",
      " 'I've been meaning to talk to you! You brought me here! Tell me how to leave!'\n",
      "He looks frustrated, but as he's cornered, he does as he's told. 'Just find the queen and demand a game of hat, shears, or stone.' \n",
      " You cut through the forest\n",
      " \n",
      " Would you like to play a quiz while you're off in the forest? You can get some points! But you must give up one food item to play.\n"
     ]
    },
    {
     "name": "stdin",
     "output_type": "stream",
     "text": [
      "yes or no? yes\n"
     ]
    },
    {
     "name": "stdout",
     "output_type": "stream",
     "text": [
      "Let's get started!\n",
      "Question one: What is father William? 3 letters. Adjective.\n"
     ]
    },
    {
     "name": "stdin",
     "output_type": "stream",
     "text": [
      " old\n"
     ]
    },
    {
     "name": "stdout",
     "output_type": "stream",
     "text": [
      "correct!\n",
      "Question two: Do you shun the bandersnatch or the mome raths? Type 'b' for bandersnatch and 'm' for mome raths.\n"
     ]
    },
    {
     "name": "stdin",
     "output_type": "stream",
     "text": [
      " b\n"
     ]
    },
    {
     "name": "stdout",
     "output_type": "stream",
     "text": [
      "That's right!\n",
      "Question three: What's more useful, a memory that goes forwards or backwards? 'f' for forwards and 'b' for backwards.\n"
     ]
    },
    {
     "name": "stdin",
     "output_type": "stream",
     "text": [
      " f\n"
     ]
    },
    {
     "name": "stdout",
     "output_type": "stream",
     "text": [
      "Indeed, just like the white queen!\n",
      "Question four: Now what did the duchess deliver?\n"
     ]
    },
    {
     "name": "stdin",
     "output_type": "stream",
     "text": [
      " a pig\n"
     ]
    },
    {
     "name": "stdout",
     "output_type": "stream",
     "text": [
      "Why you are correct! It makes for a rather beautiful pig, doesn't it?\n",
      "You earned 4 points\n",
      "\n",
      " You reach the castle. She obliges to play, but it'll be off with your head if you lose! Will you play?\n"
     ]
    },
    {
     "name": "stdin",
     "output_type": "stream",
     "text": [
      "yes or no? yes\n"
     ]
    },
    {
     "name": "stdout",
     "output_type": "stream",
     "text": [
      "Welcome to stone, hat, shears. It's similar to rock, paper, scissors, with stone being rock, paper being hat, and scissors being shears, and it has the same rules.\n"
     ]
    },
    {
     "name": "stdin",
     "output_type": "stream",
     "text": [
      "Pick stone, hat, or shears:  shears\n"
     ]
    },
    {
     "name": "stdout",
     "output_type": "stream",
     "text": [
      "It's a tie! try again.\n"
     ]
    },
    {
     "name": "stdin",
     "output_type": "stream",
     "text": [
      "Pick stone, hat, or shears:  shears\n"
     ]
    },
    {
     "name": "stdout",
     "output_type": "stream",
     "text": [
      "It's a tie! try again.\n"
     ]
    },
    {
     "name": "stdin",
     "output_type": "stream",
     "text": [
      "Pick stone, hat, or shears:  shears\n"
     ]
    },
    {
     "name": "stdout",
     "output_type": "stream",
     "text": [
      "It's a tie! try again.\n"
     ]
    },
    {
     "name": "stdin",
     "output_type": "stream",
     "text": [
      "Pick stone, hat, or shears:  hat\n"
     ]
    },
    {
     "name": "stdout",
     "output_type": "stream",
     "text": [
      "The queen has picked shears\n",
      "Well. You lose. Off with your head.\n",
      "You have finished this run. Your run time was 1 minutes or 77 sec. Your score, determined by the number of items you collected and quiz points, was 7 out of 7 possible points.\n"
     ]
    },
    {
     "name": "stdin",
     "output_type": "stream",
     "text": [
      "Enter 1 to play again:  1\n"
     ]
    },
    {
     "name": "stdout",
     "output_type": "stream",
     "text": [
      "\n",
      " It's morning, and you head to work in a gray skyscraper. You walk through the doors with swipe of an ID badge. \n",
      "The ID badge has your name,\n"
     ]
    },
    {
     "name": "stdin",
     "output_type": "stream",
     "text": [
      "(Your name, please.) l\n"
     ]
    },
    {
     "name": "stdout",
     "output_type": "stream",
     "text": [
      "l\n",
      "You step out for lunch. A man in a silver suit pushes past you, and you fall to the ground. How rude! He leaves behind a golden pocket watch.\n"
     ]
    },
    {
     "name": "stdin",
     "output_type": "stream",
     "text": [
      "Take the watch? yes\n"
     ]
    },
    {
     "name": "stdout",
     "output_type": "stream",
     "text": [
      "You grab the watch and store it in your pocket. Why don't we give it back?\n",
      "You have a watch. Your score is one.\n",
      "Your feet pound against the cement sidewalk as you chase after the man in the silver suit. You feel..compelled to chase after him despite the need to return back to work. Bystanders with their tiny dogs on long leashes fall away as you chase after him. And now you find yourself at the park, \n",
      " your feet on grass shorn short and surrounded by stout shrubbery.\n",
      "You can see an arch, leading out into the koi pond... \n",
      " and unfortunately, a giant, rusted manhole cover right in front of you, recently tossed aside to reveal a deep hole down. Where would he have gone?\n"
     ]
    },
    {
     "name": "stdin",
     "output_type": "stream",
     "text": [
      "Going down the hole? Yes or no? We can check out the arch if you say no. no\n"
     ]
    },
    {
     "name": "stdout",
     "output_type": "stream",
     "text": [
      "The arch is quite lovely, and you take a minute to ponder while watching the koi, which move like colorful silk as they traverse the pond.\n",
      "There's a single fish that's eerily blood red. It seems to signal towards the cattails by the rocks. Drawn, you pluck a single cattail.\n",
      "Well, there doesn't appear to be anything else here. You head back to the manhole cover, and, ignoring the stares, you hold your nose and jump in. The cattail stays in your pocket.\n",
      "Your score is now 2\n",
      "Your stomach lurches in terror as you keep falling down the hole. It doesn't reek the way you thought it would, but it's a small comfort when you \n",
      " can't see any light below you. Was chasing that odd man worth it?\n",
      "Wait-- there's a small flash of silver glinting up at your from below. It's the silver hat he wore. The wind around you slows as you begin to descend with more ease. The darkness begins to transform into a background of twisting silver pipes-- the city's plumbing is oddly spotless and rodent free? \n",
      " The hat continues to drift downwards, and the pipes now cut off, beginning to spill out rivers of paint and color onto the gray below.\n",
      "You watch as the hat now sits on the head of a rather large, well-dressed hare. He tumbles on to the bright ground below and scampers off. The paint has shaped itself into vibrant, red letters, thick like and round like graffitti font, reading 'Welcome to Aurora'. In smaller lettering, it reads 'Formerly known as Wonderland'\n",
      "You softly land on to the painted white surface-- it has the bounce of a paint canvas. There's an animated cafe table sitting next to you, her grinning face printed across the tabletop. \n",
      " 'Would you like something to eat dear, or something to drink?' she asks.\n"
     ]
    },
    {
     "name": "stdin",
     "output_type": "stream",
     "text": [
      "Eat or drink? eat\n"
     ]
    },
    {
     "name": "stdout",
     "output_type": "stream",
     "text": [
      "\n",
      "'Why not try a bit of this oatmeal cookie, love?' \n",
      " You regard the cookie, which feels warm in your hands. You take a bite-- it is chewy and delightful.\n",
      "You're feeling a little funny... it feels like you've been kicked in the stomach and all your limbs are reaching out! Your skin turns bright purple and your stomach plummets like it does on a rising elevator.\n",
      "You are now towering over everything around you. Your limbs are the size of ladders and your clothing has grown into brocades of cloth to cover you up, and each breath expels a breeze.\n",
      "\n",
      "'My my, you've grown so big sweetheart!' The table calls out in a tiny voice. Why not have a little something to wash it down! She hands you a flask, and you take a sip of warm apple cider.\n",
      "\n",
      " The cider fills your body with warmth at first, and you remember your father joking about buying the store out of cider for you. You remember gulping it down and gleefully kicking your legs under the kitchen table. And at first, it's wonderful to feel... small.\n",
      "\n",
      " But that feeling begins to hold you inside of it, rather than the other way around. \n",
      " Once, you hid away in a suitcase when you found the voices in your head to be 'too loud'\n",
      "\n",
      " This feels more claustrophobic than that. Your chest feels too small for your lungs, and your legs and arms shrink until they become the size of those polly pocket dolls your sisters used to play with. Your skin turns bright pink, and your clothing shrinks to fit you. You're just the right size for a well-priced apartment in the heart of the city, or a doll house.\n",
      "\n",
      " (Are you ready to continue? (yes or no?))\n"
     ]
    },
    {
     "name": "stdin",
     "output_type": "stream",
     "text": [
      " yes\n"
     ]
    },
    {
     "name": "stdout",
     "output_type": "stream",
     "text": [
      "(Let's go!)\n",
      "\n",
      " 'Dearie-- just lick the cap of the flask! You'll be back!' You obey the table's booming voice, and lick the oddly salty cap to gratefully stretch back into the appropriate proportions.\n",
      "'Okay, sweetie! You can take some cider and a bit of muffin. Oh it does not look like you have enough room for a full cookie and the entire bottle of cider. I'll make sure you get a bit of both, but would you like more cider or a bigger cookie piece?' (Type 'cider' or 'cookie')\n"
     ]
    },
    {
     "name": "stdin",
     "output_type": "stream",
     "text": [
      " cider\n"
     ]
    },
    {
     "name": "stdout",
     "output_type": "stream",
     "text": [
      "'Okay then, a large flask of cider, and one cookie for you. Take care!'\n",
      "You leave the room and enter a house. You catch the aroma of your mother's soup on the stove. You also see your father's comfy chair sitting by the television. Where do you go, to try the soup or sit on the chair?\n"
     ]
    },
    {
     "name": "stdin",
     "output_type": "stream",
     "text": [
      "Enter soup or chair:  soup\n"
     ]
    },
    {
     "name": "stdout",
     "output_type": "stream",
     "text": [
      "You reach for the soup, but it spills over the stove, and it continues to spill over, ceaselessly! At this rate you'll drown!\n",
      "You can use one item in this situation, your cider to shrink or your cookie to grow. What do you pick?\n"
     ]
    },
    {
     "name": "stdin",
     "output_type": "stream",
     "text": [
      "cider or cookie:  cider\n"
     ]
    },
    {
     "name": "stdout",
     "output_type": "stream",
     "text": [
      "You shrink and use an empty, plastic butter tub as a boat. You ride outside of the house on a tomato sea, and return to normal size.\n",
      "After you leave that terrifying home, you catch a glimps of something bushy and white. It's the rabbit! You chase him down, and catch him cornered. \n",
      " 'I've been meaning to talk to you! You brought me here! Tell me how to leave!'\n",
      "He looks frustrated, but as he's cornered, he does as he's told. 'Just find the queen and demand a game of hat, shears, or stone.' \n",
      " You cut through the forest\n",
      " \n",
      " Would you like to play a quiz while you're off in the forest? You can get some points! But you must give up one food item to play.\n"
     ]
    },
    {
     "name": "stdin",
     "output_type": "stream",
     "text": [
      "yes or no? yes\n"
     ]
    },
    {
     "name": "stdout",
     "output_type": "stream",
     "text": [
      "Let's get started!\n",
      "Question one: What is father William? 3 letters. Adjective.\n"
     ]
    },
    {
     "name": "stdin",
     "output_type": "stream",
     "text": [
      " old\n"
     ]
    },
    {
     "name": "stdout",
     "output_type": "stream",
     "text": [
      "correct!\n",
      "Question two: Do you shun the bandersnatch or the mome raths? Type 'b' for bandersnatch and 'm' for mome raths.\n"
     ]
    },
    {
     "name": "stdin",
     "output_type": "stream",
     "text": [
      " b\n"
     ]
    },
    {
     "name": "stdout",
     "output_type": "stream",
     "text": [
      "That's right!\n",
      "Question three: What's more useful, a memory that goes forwards or backwards? 'f' for forwards and 'b' for backwards.\n"
     ]
    },
    {
     "name": "stdin",
     "output_type": "stream",
     "text": [
      " f\n"
     ]
    },
    {
     "name": "stdout",
     "output_type": "stream",
     "text": [
      "Indeed, just like the white queen!\n",
      "Question four: Now what did the duchess deliver?\n"
     ]
    },
    {
     "name": "stdin",
     "output_type": "stream",
     "text": [
      " pig\n"
     ]
    },
    {
     "name": "stdout",
     "output_type": "stream",
     "text": [
      "Why you are correct! It makes for a rather beautiful pig, doesn't it?\n",
      "You earned 4 points\n",
      "\n",
      " You reach the castle. She obliges to play, but it'll be off with your head if you lose! Will you play?\n"
     ]
    },
    {
     "name": "stdin",
     "output_type": "stream",
     "text": [
      "yes or no? yes\n"
     ]
    },
    {
     "name": "stdout",
     "output_type": "stream",
     "text": [
      "Welcome to stone, hat, shears. It's similar to rock, paper, scissors, with stone being rock, paper being hat, and scissors being shears, and it has the same rules.\n"
     ]
    },
    {
     "name": "stdin",
     "output_type": "stream",
     "text": [
      "Pick stone, hat, or shears:  hat\n"
     ]
    },
    {
     "name": "stdout",
     "output_type": "stream",
     "text": [
      "The queen has picked shears\n",
      "Well. You lose. Off with your head.\n",
      "You have finished this run. Your run time was 1 minutes or 57 sec. Your score, determined by the number of items you collected and quiz points, was 7 out of 7 possible points.\n"
     ]
    },
    {
     "ename": "KeyboardInterrupt",
     "evalue": "Interrupted by user",
     "output_type": "error",
     "traceback": [
      "\u001b[1;31m---------------------------------------------------------------------------\u001b[0m",
      "\u001b[1;31mKeyboardInterrupt\u001b[0m                         Traceback (most recent call last)",
      "Cell \u001b[1;32mIn[292], line 126\u001b[0m\n\u001b[0;32m    124\u001b[0m \u001b[38;5;28mprint\u001b[39m(\u001b[38;5;124mf\u001b[39m\u001b[38;5;124m\"\u001b[39m\u001b[38;5;124mYou have finished this run. Your run time was \u001b[39m\u001b[38;5;132;01m{\u001b[39;00mminutes_elapsed\u001b[38;5;132;01m}\u001b[39;00m\u001b[38;5;124m minutes or \u001b[39m\u001b[38;5;132;01m{\u001b[39;00melapsed_time\u001b[38;5;132;01m}\u001b[39;00m\u001b[38;5;124m sec. Your score, determined by the number of items you collected and quiz points, was \u001b[39m\u001b[38;5;132;01m{\u001b[39;00mscore\u001b[38;5;132;01m}\u001b[39;00m\u001b[38;5;124m out of 7 possible points.\u001b[39m\u001b[38;5;124m\"\u001b[39m)\n\u001b[0;32m    125\u001b[0m \u001b[38;5;66;03m#offers option to play again, if not, breaks while loop\u001b[39;00m\n\u001b[1;32m--> 126\u001b[0m playdecision \u001b[38;5;241m=\u001b[39m \u001b[38;5;28minput\u001b[39m(\u001b[38;5;124m\"\u001b[39m\u001b[38;5;124mEnter 1 to play again: \u001b[39m\u001b[38;5;124m\"\u001b[39m)\n\u001b[0;32m    127\u001b[0m \u001b[38;5;28;01mif\u001b[39;00m playdecision \u001b[38;5;241m!=\u001b[39m \u001b[38;5;124m\"\u001b[39m\u001b[38;5;124m1\u001b[39m\u001b[38;5;124m\"\u001b[39m:\n\u001b[0;32m    128\u001b[0m     \u001b[38;5;28mprint\u001b[39m(\u001b[38;5;124m\"\u001b[39m\u001b[38;5;124mGoodbye.\u001b[39m\u001b[38;5;124m\"\u001b[39m)\n",
      "File \u001b[1;32m~\\.conda\\Lib\\site-packages\\ipykernel\\kernelbase.py:1175\u001b[0m, in \u001b[0;36mKernel.raw_input\u001b[1;34m(self, prompt)\u001b[0m\n\u001b[0;32m   1171\u001b[0m \u001b[38;5;28;01mif\u001b[39;00m \u001b[38;5;129;01mnot\u001b[39;00m \u001b[38;5;28mself\u001b[39m\u001b[38;5;241m.\u001b[39m_allow_stdin:\n\u001b[0;32m   1172\u001b[0m     \u001b[38;5;28;01mraise\u001b[39;00m StdinNotImplementedError(\n\u001b[0;32m   1173\u001b[0m         \u001b[38;5;124m\"\u001b[39m\u001b[38;5;124mraw_input was called, but this frontend does not support input requests.\u001b[39m\u001b[38;5;124m\"\u001b[39m\n\u001b[0;32m   1174\u001b[0m     )\n\u001b[1;32m-> 1175\u001b[0m \u001b[38;5;28;01mreturn\u001b[39;00m \u001b[38;5;28mself\u001b[39m\u001b[38;5;241m.\u001b[39m_input_request(\n\u001b[0;32m   1176\u001b[0m     \u001b[38;5;28mstr\u001b[39m(prompt),\n\u001b[0;32m   1177\u001b[0m     \u001b[38;5;28mself\u001b[39m\u001b[38;5;241m.\u001b[39m_parent_ident[\u001b[38;5;124m\"\u001b[39m\u001b[38;5;124mshell\u001b[39m\u001b[38;5;124m\"\u001b[39m],\n\u001b[0;32m   1178\u001b[0m     \u001b[38;5;28mself\u001b[39m\u001b[38;5;241m.\u001b[39mget_parent(\u001b[38;5;124m\"\u001b[39m\u001b[38;5;124mshell\u001b[39m\u001b[38;5;124m\"\u001b[39m),\n\u001b[0;32m   1179\u001b[0m     password\u001b[38;5;241m=\u001b[39m\u001b[38;5;28;01mFalse\u001b[39;00m,\n\u001b[0;32m   1180\u001b[0m )\n",
      "File \u001b[1;32m~\\.conda\\Lib\\site-packages\\ipykernel\\kernelbase.py:1217\u001b[0m, in \u001b[0;36mKernel._input_request\u001b[1;34m(self, prompt, ident, parent, password)\u001b[0m\n\u001b[0;32m   1214\u001b[0m             \u001b[38;5;28;01mbreak\u001b[39;00m\n\u001b[0;32m   1215\u001b[0m \u001b[38;5;28;01mexcept\u001b[39;00m \u001b[38;5;167;01mKeyboardInterrupt\u001b[39;00m:\n\u001b[0;32m   1216\u001b[0m     \u001b[38;5;66;03m# re-raise KeyboardInterrupt, to truncate traceback\u001b[39;00m\n\u001b[1;32m-> 1217\u001b[0m     \u001b[38;5;28;01mraise\u001b[39;00m \u001b[38;5;167;01mKeyboardInterrupt\u001b[39;00m(\u001b[38;5;124m\"\u001b[39m\u001b[38;5;124mInterrupted by user\u001b[39m\u001b[38;5;124m\"\u001b[39m) \u001b[38;5;28;01mfrom\u001b[39;00m \u001b[38;5;28;01mNone\u001b[39;00m\n\u001b[0;32m   1218\u001b[0m \u001b[38;5;28;01mexcept\u001b[39;00m \u001b[38;5;167;01mException\u001b[39;00m:\n\u001b[0;32m   1219\u001b[0m     \u001b[38;5;28mself\u001b[39m\u001b[38;5;241m.\u001b[39mlog\u001b[38;5;241m.\u001b[39mwarning(\u001b[38;5;124m\"\u001b[39m\u001b[38;5;124mInvalid Message:\u001b[39m\u001b[38;5;124m\"\u001b[39m, exc_info\u001b[38;5;241m=\u001b[39m\u001b[38;5;28;01mTrue\u001b[39;00m)\n",
      "\u001b[1;31mKeyboardInterrupt\u001b[0m: Interrupted by user"
     ]
    }
   ],
   "source": [
    "#This is the official function, a combination of nested functions and if statements, all contained in a while loop that operates while True \n",
    "import time\n",
    "import random\n",
    "instructions()\n",
    "while True:\n",
    "    #this begins a timer, and assigns a variable to the beginning time\n",
    "    start_time = time.time()\n",
    "\n",
    "    #initialized all variables at 0\n",
    "    quiz_result = 0\n",
    "    cattail = 0\n",
    "    have_watch = 0\n",
    "    have_cider = 0\n",
    "    food_items = 0\n",
    "    \n",
    "    intro()\n",
    "    username = asking_name()\n",
    "    have_watch = rabbit_meet()\n",
    "    #If user selected the watch in previous function, it is returned as yes, and have_watch is recorded as 1. This is a part of the score.\n",
    "    if have_watch == \"yes\":\n",
    "        have_watch = 1\n",
    "        print(\"You have a watch. Your score is one.\")\n",
    "    else: \n",
    "        have_watch = 0\n",
    "    to_the_park()\n",
    "    cattail = rabbit_hole_choice()\n",
    "    #If user selected \"no\" in rabbit_hole_choice, they have a cattail, recorded as one\n",
    "    if cattail == \"no\":\n",
    "        cattail = 1\n",
    "        #This prints their score as an addition of having the cattail and watch items\n",
    "        print(\"Your score is now\", cattail + have_watch)\n",
    "    else:\n",
    "        cattail = 0\n",
    "    welcome()\n",
    "    meet_table()\n",
    "    food_choice()\n",
    "    food_option = pick_food()\n",
    "    #initialized having the cookie and cider variables\n",
    "    have_cookie = 0\n",
    "    have_cider = 0\n",
    "    #if the option they selected earlier was cookie, they will have 2 cookies and 1 cider, or vice versa if they selected cider. \n",
    "    if food_option == \"cookie\":\n",
    "        have_cookie  = 2 \n",
    "        have_cider = 1\n",
    "    elif food_option == \"cider\":\n",
    "        have_cider = 2\n",
    "        have_cookie = 1\n",
    "    \n",
    "    #In the next scene, you select a setting, determined by \"soup\" or \"chair\". Both settings lead to a situation that puts the player at risk, and they must choose the appropriate item to proceed.\n",
    "    print(\"You leave the room and enter a house. You catch the aroma of your mother's soup on the stove. You also see your father's comfy chair sitting by the television. Where do you go, to try the soup or sit on the chair?\")\n",
    "    opt1 = input(\"Enter soup or chair: \").lower()\n",
    "    #error handling for options \n",
    "    while opt1 not in ['soup', 'chair']:\n",
    "        opt1 = input(\"Enter soup or chair: \").lower()\n",
    "    #gives two different scenarios based on the choices\n",
    "    if opt1 == 'soup':\n",
    "        print(\"You reach for the soup, but it spills over the stove, and it continues to spill over, ceaselessly! At this rate you'll drown!\")\n",
    "    elif opt1 == 'chair':\n",
    "        print(\"You try to sit down on your father's chair, which has a comforting cushiness to it, but it suddenly springs you up onto the chandelier, and you're stuck!\")\n",
    "        \n",
    "    print(\"You can use one item in this situation, your cider to shrink or your cookie to grow. What do you pick?\")\n",
    "    #allows user to pick betwen two items in the scenario. One item will help them win, the other will cause them to lose. This is determined by the check_input function from earlier   \n",
    "    opt2 = input(\"cider or cookie: \").lower()\n",
    "    while opt2 not in ['cider', 'cookie']:  \n",
    "        opt2 = input(\"cider or cookie: \").lower()\n",
    "    \n",
    "    if opt2 == 'cider':\n",
    "        have_cider = have_cider - 1\n",
    "    if opt2 == 'cookie':\n",
    "        have_cookie = have_cookie - 1\n",
    "    \n",
    "    #combined food items\n",
    "    food_items = have_cookie + have_cider\n",
    "\n",
    "    result = check_input(opt1, opt2)\n",
    "    #If the result was \"win\" after that scenario, they progress to the next step. Otherwise, they lose\n",
    "    if result == 'win':\n",
    "        print(\"After you leave that terrifying home, you catch a glimps of something bushy and white. It's the rabbit! You chase him down, and catch him cornered. \\n 'I've been meaning to talk to you! You brought me here! Tell me how to leave!'\")\n",
    "        print(\"He looks frustrated, but as he's cornered, he does as he's told. 'Just find the queen and demand a game of hat, shears, or stone.' \\n You cut through the forest\")\n",
    "        print(\" \\n Would you like to play a quiz while you're off in the forest? You can get some points! But you must give up one food item to play.\")\n",
    "        #Can choose to play an optional quiz for extra points, but must sacrifice points to try.\n",
    "        quiz_decision = input(\"yes or no?\").lower()\n",
    "        #error handling for non yes or no answers\n",
    "        options = [\"yes\", \"no\"]\n",
    "        while quiz_decision not in options:\n",
    "            quiz_decision = input(\"yes or no?\").lower()\n",
    "        if quiz_decision == \"yes\":\n",
    "            print(\"Let's get started!\")\n",
    "            #removes a point from food items to play\n",
    "            food_items = food_items - 1\n",
    "            quiz_result = quiz()\n",
    "            print(f\"You earned {quiz_result} points\")\n",
    "        else:\n",
    "            print(\"Too bad.\")\n",
    "        \n",
    "        #You reach the castle, and you have the option to not play the final game\n",
    "        print(\"\\n You reach the castle. She obliges to play, but it'll be off with your head if you lose! Will you play?\")\n",
    "        queen_ans = input(\"yes or no?\").lower()\n",
    "        options = [\"yes\", \"no\"]\n",
    "        while queen_ans not in options:\n",
    "                queen_ans = input(\"yes or no?\").lower()  \n",
    "        if queen_ans == \"yes\":\n",
    "            #If you choose to play the final game, it opens the rps() function\n",
    "            rps_result = rps()\n",
    "            if rps_result =='win':\n",
    "                print(\"She begrudgingly opens a portal, and you leave Wonderland! You win.\")\n",
    "            else:\n",
    "                #If you lose rock paper scissors\n",
    "                print(\"Well. You lose. Off with your head.\")\n",
    "        else:\n",
    "            #If you say no to playing with the queen\n",
    "            print(\"You're too cowardly to leave Wonderland! You lose\")\n",
    "    \n",
    "              \n",
    "\n",
    "    #after entire loop reaches the end, it records an end time, and subtracts it from start time                \n",
    "    end_time =  time.time()\n",
    "    elapsed_time = round(end_time - start_time)\n",
    "    #records minutes elapsed by dividing by 60\n",
    "    minutes_elapsed = round(elapsed_time/60)\n",
    "    #score determined by items collected and minigame score\n",
    "    score = have_watch + cattail + food_items + quiz_result\n",
    "    #prints time as minutes:seconds format with seconds rounded appropriately. \n",
    "    print(f\"You have finished this run. Your run time was {minutes_elapsed} minutes or {elapsed_time} sec. Your score, determined by the number of items you collected and quiz points, was {score} out of 7 possible points.\")\n",
    "    #offers option to play again, if not, breaks while loop\n",
    "    playdecision = input(\"Enter 1 to play again: \")\n",
    "    if playdecision != \"1\":\n",
    "        print(\"Goodbye.\")\n",
    "        break\n",
    "    \n",
    "\n",
    "    \n",
    "    \n"
   ]
  }
 ],
 "metadata": {
  "kernelspec": {
   "display_name": "Python 3 (ipykernel)",
   "language": "python",
   "name": "python3"
  },
  "language_info": {
   "codemirror_mode": {
    "name": "ipython",
    "version": 3
   },
   "file_extension": ".py",
   "mimetype": "text/x-python",
   "name": "python",
   "nbconvert_exporter": "python",
   "pygments_lexer": "ipython3",
   "version": "3.11.4"
  }
 },
 "nbformat": 4,
 "nbformat_minor": 5
}
